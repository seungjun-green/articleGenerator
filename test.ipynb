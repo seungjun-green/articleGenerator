{
 "cells": [
  {
   "cell_type": "code",
   "execution_count": 1,
   "metadata": {},
   "outputs": [],
   "source": [
    "import sys\n",
    "sys.path.append('.')"
   ]
  },
  {
   "cell_type": "code",
   "execution_count": 2,
   "metadata": {},
   "outputs": [],
   "source": [
    "from utils.keys import api_key"
   ]
  },
  {
   "cell_type": "code",
   "execution_count": 3,
   "metadata": {},
   "outputs": [
    {
     "name": "stdout",
     "output_type": "stream",
     "text": [
      "The token has not been saved to the git credentials helper. Pass `add_to_git_credential=True` in this function directly or `--add-to-git-credential` if using via `huggingface-cli` if you want to set the git credential as well.\n",
      "Traceback (most recent call last):\n",
      "  File \"/Users/seungjunlee/Desktop/MLProjects/articleGenerator/venv/lib/python3.9/site-packages/huggingface_hub/utils/_http.py\", line 406, in hf_raise_for_status\n",
      "    response.raise_for_status()\n",
      "  File \"/Users/seungjunlee/Desktop/MLProjects/articleGenerator/venv/lib/python3.9/site-packages/requests/models.py\", line 1024, in raise_for_status\n",
      "    raise HTTPError(http_error_msg, response=self)\n",
      "requests.exceptions.HTTPError: 401 Client Error: Unauthorized for url: https://huggingface.co/api/whoami-v2\n",
      "\n",
      "The above exception was the direct cause of the following exception:\n",
      "\n",
      "Traceback (most recent call last):\n",
      "  File \"/Users/seungjunlee/Desktop/MLProjects/articleGenerator/venv/lib/python3.9/site-packages/huggingface_hub/hf_api.py\", line 1633, in whoami\n",
      "    hf_raise_for_status(r)\n",
      "  File \"/Users/seungjunlee/Desktop/MLProjects/articleGenerator/venv/lib/python3.9/site-packages/huggingface_hub/utils/_http.py\", line 477, in hf_raise_for_status\n",
      "    raise _format(HfHubHTTPError, str(e), response) from e\n",
      "huggingface_hub.errors.HfHubHTTPError: 401 Client Error: Unauthorized for url: https://huggingface.co/api/whoami-v2 (Request ID: Root=1-67854870-5eadaa9a6059c7684c9f005a;7a4831f2-afb6-4321-bb9e-2daead95f4e4)\n",
      "\n",
      "Invalid username or password.\n",
      "\n",
      "The above exception was the direct cause of the following exception:\n",
      "\n",
      "Traceback (most recent call last):\n",
      "  File \"/Users/seungjunlee/Desktop/MLProjects/articleGenerator/venv/bin/huggingface-cli\", line 8, in <module>\n",
      "    sys.exit(main())\n",
      "  File \"/Users/seungjunlee/Desktop/MLProjects/articleGenerator/venv/lib/python3.9/site-packages/huggingface_hub/commands/huggingface_cli.py\", line 57, in main\n",
      "    service.run()\n",
      "  File \"/Users/seungjunlee/Desktop/MLProjects/articleGenerator/venv/lib/python3.9/site-packages/huggingface_hub/commands/user.py\", line 153, in run\n",
      "    login(\n",
      "  File \"/Users/seungjunlee/Desktop/MLProjects/articleGenerator/venv/lib/python3.9/site-packages/huggingface_hub/utils/_deprecation.py\", line 101, in inner_f\n",
      "    return f(*args, **kwargs)\n",
      "  File \"/Users/seungjunlee/Desktop/MLProjects/articleGenerator/venv/lib/python3.9/site-packages/huggingface_hub/utils/_deprecation.py\", line 31, in inner_f\n",
      "    return f(*args, **kwargs)\n",
      "  File \"/Users/seungjunlee/Desktop/MLProjects/articleGenerator/venv/lib/python3.9/site-packages/huggingface_hub/_login.py\", line 126, in login\n",
      "    _login(token, add_to_git_credential=add_to_git_credential)\n",
      "  File \"/Users/seungjunlee/Desktop/MLProjects/articleGenerator/venv/lib/python3.9/site-packages/huggingface_hub/_login.py\", line 404, in _login\n",
      "    token_info = whoami(token)\n",
      "  File \"/Users/seungjunlee/Desktop/MLProjects/articleGenerator/venv/lib/python3.9/site-packages/huggingface_hub/utils/_validators.py\", line 114, in _inner_fn\n",
      "    return fn(*args, **kwargs)\n",
      "  File \"/Users/seungjunlee/Desktop/MLProjects/articleGenerator/venv/lib/python3.9/site-packages/huggingface_hub/hf_api.py\", line 1635, in whoami\n",
      "    raise HTTPError(\n",
      "requests.exceptions.HTTPError: Invalid user token. If you didn't pass a user token, make sure you are properly logged in by executing `huggingface-cli login`, and if you did pass a user token, double-check it's correct.\n"
     ]
    }
   ],
   "source": [
    "!huggingface-cli login --token api_key"
   ]
  },
  {
   "cell_type": "code",
   "execution_count": 4,
   "metadata": {},
   "outputs": [
    {
     "name": "stderr",
     "output_type": "stream",
     "text": [
      "\n",
      "A module that was compiled using NumPy 1.x cannot be run in\n",
      "NumPy 2.0.2 as it may crash. To support both 1.x and 2.x\n",
      "versions of NumPy, modules must be compiled with NumPy 2.0.\n",
      "Some module may need to rebuild instead e.g. with 'pybind11>=2.12'.\n",
      "\n",
      "If you are a user of the module, the easiest solution will be to\n",
      "downgrade to 'numpy<2' or try to upgrade the affected module.\n",
      "We expect that some modules will need time to support NumPy 2.\n",
      "\n",
      "Traceback (most recent call last):  File \"/Users/seungjunlee/opt/anaconda3/lib/python3.9/runpy.py\", line 197, in _run_module_as_main\n",
      "    return _run_code(code, main_globals, None,\n",
      "  File \"/Users/seungjunlee/opt/anaconda3/lib/python3.9/runpy.py\", line 87, in _run_code\n",
      "    exec(code, run_globals)\n",
      "  File \"/Users/seungjunlee/Desktop/MLProjects/articleGenerator/venv/lib/python3.9/site-packages/ipykernel_launcher.py\", line 18, in <module>\n",
      "    app.launch_new_instance()\n",
      "  File \"/Users/seungjunlee/Desktop/MLProjects/articleGenerator/venv/lib/python3.9/site-packages/traitlets/config/application.py\", line 1075, in launch_instance\n",
      "    app.start()\n",
      "  File \"/Users/seungjunlee/Desktop/MLProjects/articleGenerator/venv/lib/python3.9/site-packages/ipykernel/kernelapp.py\", line 739, in start\n",
      "    self.io_loop.start()\n",
      "  File \"/Users/seungjunlee/Desktop/MLProjects/articleGenerator/venv/lib/python3.9/site-packages/tornado/platform/asyncio.py\", line 205, in start\n",
      "    self.asyncio_loop.run_forever()\n",
      "  File \"/Users/seungjunlee/opt/anaconda3/lib/python3.9/asyncio/base_events.py\", line 601, in run_forever\n",
      "    self._run_once()\n",
      "  File \"/Users/seungjunlee/opt/anaconda3/lib/python3.9/asyncio/base_events.py\", line 1905, in _run_once\n",
      "    handle._run()\n",
      "  File \"/Users/seungjunlee/opt/anaconda3/lib/python3.9/asyncio/events.py\", line 80, in _run\n",
      "    self._context.run(self._callback, *self._args)\n",
      "  File \"/Users/seungjunlee/Desktop/MLProjects/articleGenerator/venv/lib/python3.9/site-packages/ipykernel/kernelbase.py\", line 545, in dispatch_queue\n",
      "    await self.process_one()\n",
      "  File \"/Users/seungjunlee/Desktop/MLProjects/articleGenerator/venv/lib/python3.9/site-packages/ipykernel/kernelbase.py\", line 534, in process_one\n",
      "    await dispatch(*args)\n",
      "  File \"/Users/seungjunlee/Desktop/MLProjects/articleGenerator/venv/lib/python3.9/site-packages/ipykernel/kernelbase.py\", line 437, in dispatch_shell\n",
      "    await result\n",
      "  File \"/Users/seungjunlee/Desktop/MLProjects/articleGenerator/venv/lib/python3.9/site-packages/ipykernel/ipkernel.py\", line 362, in execute_request\n",
      "    await super().execute_request(stream, ident, parent)\n",
      "  File \"/Users/seungjunlee/Desktop/MLProjects/articleGenerator/venv/lib/python3.9/site-packages/ipykernel/kernelbase.py\", line 778, in execute_request\n",
      "    reply_content = await reply_content\n",
      "  File \"/Users/seungjunlee/Desktop/MLProjects/articleGenerator/venv/lib/python3.9/site-packages/ipykernel/ipkernel.py\", line 449, in do_execute\n",
      "    res = shell.run_cell(\n",
      "  File \"/Users/seungjunlee/Desktop/MLProjects/articleGenerator/venv/lib/python3.9/site-packages/ipykernel/zmqshell.py\", line 549, in run_cell\n",
      "    return super().run_cell(*args, **kwargs)\n",
      "  File \"/Users/seungjunlee/Desktop/MLProjects/articleGenerator/venv/lib/python3.9/site-packages/IPython/core/interactiveshell.py\", line 3048, in run_cell\n",
      "    result = self._run_cell(\n",
      "  File \"/Users/seungjunlee/Desktop/MLProjects/articleGenerator/venv/lib/python3.9/site-packages/IPython/core/interactiveshell.py\", line 3103, in _run_cell\n",
      "    result = runner(coro)\n",
      "  File \"/Users/seungjunlee/Desktop/MLProjects/articleGenerator/venv/lib/python3.9/site-packages/IPython/core/async_helpers.py\", line 129, in _pseudo_sync_runner\n",
      "    coro.send(None)\n",
      "  File \"/Users/seungjunlee/Desktop/MLProjects/articleGenerator/venv/lib/python3.9/site-packages/IPython/core/interactiveshell.py\", line 3308, in run_cell_async\n",
      "    has_raised = await self.run_ast_nodes(code_ast.body, cell_name,\n",
      "  File \"/Users/seungjunlee/Desktop/MLProjects/articleGenerator/venv/lib/python3.9/site-packages/IPython/core/interactiveshell.py\", line 3490, in run_ast_nodes\n",
      "    if await self.run_code(code, result, async_=asy):\n",
      "  File \"/Users/seungjunlee/Desktop/MLProjects/articleGenerator/venv/lib/python3.9/site-packages/IPython/core/interactiveshell.py\", line 3550, in run_code\n",
      "    exec(code_obj, self.user_global_ns, self.user_ns)\n",
      "  File \"/var/folders/lr/s60v96vx683255d9b187pgyr0000gn/T/ipykernel_74757/3791319047.py\", line 1, in <module>\n",
      "    from scripts.train import fine_tune\n",
      "  File \"/Users/seungjunlee/Desktop/MLProjects/articleGenerator/scripts/train.py\", line 2, in <module>\n",
      "    from torch.optim import Adam\n",
      "  File \"/Users/seungjunlee/Desktop/MLProjects/articleGenerator/venv/lib/python3.9/site-packages/torch/__init__.py\", line 1477, in <module>\n",
      "    from .functional import *  # noqa: F403\n",
      "  File \"/Users/seungjunlee/Desktop/MLProjects/articleGenerator/venv/lib/python3.9/site-packages/torch/functional.py\", line 9, in <module>\n",
      "    import torch.nn.functional as F\n",
      "  File \"/Users/seungjunlee/Desktop/MLProjects/articleGenerator/venv/lib/python3.9/site-packages/torch/nn/__init__.py\", line 1, in <module>\n",
      "    from .modules import *  # noqa: F403\n",
      "  File \"/Users/seungjunlee/Desktop/MLProjects/articleGenerator/venv/lib/python3.9/site-packages/torch/nn/modules/__init__.py\", line 35, in <module>\n",
      "    from .transformer import TransformerEncoder, TransformerDecoder, \\\n",
      "  File \"/Users/seungjunlee/Desktop/MLProjects/articleGenerator/venv/lib/python3.9/site-packages/torch/nn/modules/transformer.py\", line 20, in <module>\n",
      "    device: torch.device = torch.device(torch._C._get_default_device()),  # torch.device('cpu'),\n",
      "/Users/seungjunlee/Desktop/MLProjects/articleGenerator/venv/lib/python3.9/site-packages/torch/nn/modules/transformer.py:20: UserWarning: Failed to initialize NumPy: _ARRAY_API not found (Triggered internally at /Users/runner/work/pytorch/pytorch/pytorch/torch/csrc/utils/tensor_numpy.cpp:84.)\n",
      "  device: torch.device = torch.device(torch._C._get_default_device()),  # torch.device('cpu'),\n",
      "/Users/seungjunlee/Desktop/MLProjects/articleGenerator/venv/lib/python3.9/site-packages/tqdm/auto.py:21: TqdmWarning: IProgress not found. Please update jupyter and ipywidgets. See https://ipywidgets.readthedocs.io/en/stable/user_install.html\n",
      "  from .autonotebook import tqdm as notebook_tqdm\n"
     ]
    },
    {
     "ename": "KeyboardInterrupt",
     "evalue": "",
     "output_type": "error",
     "traceback": [
      "\u001b[0;31m---------------------------------------------------------------------------\u001b[0m",
      "\u001b[0;31mKeyboardInterrupt\u001b[0m                         Traceback (most recent call last)",
      "Cell \u001b[0;32mIn[4], line 1\u001b[0m\n\u001b[0;32m----> 1\u001b[0m \u001b[38;5;28;01mfrom\u001b[39;00m\u001b[38;5;250m \u001b[39m\u001b[38;5;21;01mscripts\u001b[39;00m\u001b[38;5;21;01m.\u001b[39;00m\u001b[38;5;21;01mtrain\u001b[39;00m\u001b[38;5;250m \u001b[39m\u001b[38;5;28;01mimport\u001b[39;00m fine_tune\n",
      "File \u001b[0;32m~/Desktop/MLProjects/articleGenerator/scripts/train.py:5\u001b[0m\n\u001b[1;32m      3\u001b[0m \u001b[38;5;28;01mfrom\u001b[39;00m\u001b[38;5;250m \u001b[39m\u001b[38;5;21;01mtransformers\u001b[39;00m\u001b[38;5;250m \u001b[39m\u001b[38;5;28;01mimport\u001b[39;00m get_scheduler\n\u001b[1;32m      4\u001b[0m \u001b[38;5;28;01mfrom\u001b[39;00m\u001b[38;5;250m \u001b[39m\u001b[38;5;21;01mconfigs\u001b[39;00m\u001b[38;5;21;01m.\u001b[39;00m\u001b[38;5;21;01msquad_config\u001b[39;00m\u001b[38;5;250m \u001b[39m\u001b[38;5;28;01mimport\u001b[39;00m SquadFineTuneConfig\n\u001b[0;32m----> 5\u001b[0m \u001b[38;5;28;01mfrom\u001b[39;00m\u001b[38;5;250m \u001b[39m\u001b[38;5;21;01mmodels\u001b[39;00m\u001b[38;5;21;01m.\u001b[39;00m\u001b[38;5;21;01mbase_model\u001b[39;00m\u001b[38;5;250m \u001b[39m\u001b[38;5;28;01mimport\u001b[39;00m load_base_model\n\u001b[1;32m      6\u001b[0m \u001b[38;5;28;01mfrom\u001b[39;00m\u001b[38;5;250m \u001b[39m\u001b[38;5;21;01mmodels\u001b[39;00m\u001b[38;5;21;01m.\u001b[39;00m\u001b[38;5;21;01mlora\u001b[39;00m\u001b[38;5;250m \u001b[39m\u001b[38;5;28;01mimport\u001b[39;00m add_lora_to_model\n\u001b[1;32m      7\u001b[0m \u001b[38;5;28;01mfrom\u001b[39;00m\u001b[38;5;250m \u001b[39m\u001b[38;5;21;01mutils\u001b[39;00m\u001b[38;5;21;01m.\u001b[39;00m\u001b[38;5;21;01mhelpers\u001b[39;00m\u001b[38;5;250m \u001b[39m\u001b[38;5;28;01mimport\u001b[39;00m count_params\n",
      "File \u001b[0;32m~/Desktop/MLProjects/articleGenerator/models/base_model.py:1\u001b[0m\n\u001b[0;32m----> 1\u001b[0m \u001b[38;5;28;01mfrom\u001b[39;00m\u001b[38;5;250m \u001b[39m\u001b[38;5;21;01mtransformers\u001b[39;00m\u001b[38;5;250m \u001b[39m\u001b[38;5;28;01mimport\u001b[39;00m AutoTokenizer, AutoModelForCausalLM\n\u001b[1;32m      3\u001b[0m \u001b[38;5;28;01mdef\u001b[39;00m\u001b[38;5;250m \u001b[39m\u001b[38;5;21mload_base_model\u001b[39m(model_name: \u001b[38;5;28mstr\u001b[39m):\n\u001b[1;32m      4\u001b[0m     tokenizer \u001b[38;5;241m=\u001b[39m AutoTokenizer\u001b[38;5;241m.\u001b[39mfrom_pretrained(model_name)\n",
      "File \u001b[0;32m<frozen importlib._bootstrap>:1055\u001b[0m, in \u001b[0;36m_handle_fromlist\u001b[0;34m(module, fromlist, import_, recursive)\u001b[0m\n",
      "File \u001b[0;32m~/Desktop/MLProjects/articleGenerator/venv/lib/python3.9/site-packages/transformers/utils/import_utils.py:1781\u001b[0m, in \u001b[0;36m_LazyModule.__getattr__\u001b[0;34m(self, name)\u001b[0m\n\u001b[1;32m   1779\u001b[0m     value \u001b[38;5;241m=\u001b[39m Placeholder\n\u001b[1;32m   1780\u001b[0m \u001b[38;5;28;01melif\u001b[39;00m name \u001b[38;5;129;01min\u001b[39;00m \u001b[38;5;28mself\u001b[39m\u001b[38;5;241m.\u001b[39m_class_to_module\u001b[38;5;241m.\u001b[39mkeys():\n\u001b[0;32m-> 1781\u001b[0m     module \u001b[38;5;241m=\u001b[39m \u001b[38;5;28;43mself\u001b[39;49m\u001b[38;5;241;43m.\u001b[39;49m\u001b[43m_get_module\u001b[49m\u001b[43m(\u001b[49m\u001b[38;5;28;43mself\u001b[39;49m\u001b[38;5;241;43m.\u001b[39;49m\u001b[43m_class_to_module\u001b[49m\u001b[43m[\u001b[49m\u001b[43mname\u001b[49m\u001b[43m]\u001b[49m\u001b[43m)\u001b[49m\n\u001b[1;32m   1782\u001b[0m     value \u001b[38;5;241m=\u001b[39m \u001b[38;5;28mgetattr\u001b[39m(module, name)\n\u001b[1;32m   1783\u001b[0m \u001b[38;5;28;01melif\u001b[39;00m name \u001b[38;5;129;01min\u001b[39;00m \u001b[38;5;28mself\u001b[39m\u001b[38;5;241m.\u001b[39m_modules:\n",
      "File \u001b[0;32m~/Desktop/MLProjects/articleGenerator/venv/lib/python3.9/site-packages/transformers/utils/import_utils.py:1793\u001b[0m, in \u001b[0;36m_LazyModule._get_module\u001b[0;34m(self, module_name)\u001b[0m\n\u001b[1;32m   1791\u001b[0m \u001b[38;5;28;01mdef\u001b[39;00m\u001b[38;5;250m \u001b[39m\u001b[38;5;21m_get_module\u001b[39m(\u001b[38;5;28mself\u001b[39m, module_name: \u001b[38;5;28mstr\u001b[39m):\n\u001b[1;32m   1792\u001b[0m     \u001b[38;5;28;01mtry\u001b[39;00m:\n\u001b[0;32m-> 1793\u001b[0m         \u001b[38;5;28;01mreturn\u001b[39;00m \u001b[43mimportlib\u001b[49m\u001b[38;5;241;43m.\u001b[39;49m\u001b[43mimport_module\u001b[49m\u001b[43m(\u001b[49m\u001b[38;5;124;43m\"\u001b[39;49m\u001b[38;5;124;43m.\u001b[39;49m\u001b[38;5;124;43m\"\u001b[39;49m\u001b[43m \u001b[49m\u001b[38;5;241;43m+\u001b[39;49m\u001b[43m \u001b[49m\u001b[43mmodule_name\u001b[49m\u001b[43m,\u001b[49m\u001b[43m \u001b[49m\u001b[38;5;28;43mself\u001b[39;49m\u001b[38;5;241;43m.\u001b[39;49m\u001b[38;5;18;43m__name__\u001b[39;49m\u001b[43m)\u001b[49m\n\u001b[1;32m   1794\u001b[0m     \u001b[38;5;28;01mexcept\u001b[39;00m \u001b[38;5;167;01mException\u001b[39;00m \u001b[38;5;28;01mas\u001b[39;00m e:\n\u001b[1;32m   1795\u001b[0m         \u001b[38;5;28;01mraise\u001b[39;00m \u001b[38;5;167;01mRuntimeError\u001b[39;00m(\n\u001b[1;32m   1796\u001b[0m             \u001b[38;5;124mf\u001b[39m\u001b[38;5;124m\"\u001b[39m\u001b[38;5;124mFailed to import \u001b[39m\u001b[38;5;132;01m{\u001b[39;00m\u001b[38;5;28mself\u001b[39m\u001b[38;5;241m.\u001b[39m\u001b[38;5;18m__name__\u001b[39m\u001b[38;5;132;01m}\u001b[39;00m\u001b[38;5;124m.\u001b[39m\u001b[38;5;132;01m{\u001b[39;00mmodule_name\u001b[38;5;132;01m}\u001b[39;00m\u001b[38;5;124m because of the following error (look up to see its\u001b[39m\u001b[38;5;124m\"\u001b[39m\n\u001b[1;32m   1797\u001b[0m             \u001b[38;5;124mf\u001b[39m\u001b[38;5;124m\"\u001b[39m\u001b[38;5;124m traceback):\u001b[39m\u001b[38;5;130;01m\\n\u001b[39;00m\u001b[38;5;132;01m{\u001b[39;00me\u001b[38;5;132;01m}\u001b[39;00m\u001b[38;5;124m\"\u001b[39m\n\u001b[1;32m   1798\u001b[0m         ) \u001b[38;5;28;01mfrom\u001b[39;00m\u001b[38;5;250m \u001b[39m\u001b[38;5;21;01me\u001b[39;00m\n",
      "File \u001b[0;32m~/opt/anaconda3/lib/python3.9/importlib/__init__.py:127\u001b[0m, in \u001b[0;36mimport_module\u001b[0;34m(name, package)\u001b[0m\n\u001b[1;32m    125\u001b[0m             \u001b[38;5;28;01mbreak\u001b[39;00m\n\u001b[1;32m    126\u001b[0m         level \u001b[38;5;241m+\u001b[39m\u001b[38;5;241m=\u001b[39m \u001b[38;5;241m1\u001b[39m\n\u001b[0;32m--> 127\u001b[0m \u001b[38;5;28;01mreturn\u001b[39;00m \u001b[43m_bootstrap\u001b[49m\u001b[38;5;241;43m.\u001b[39;49m\u001b[43m_gcd_import\u001b[49m\u001b[43m(\u001b[49m\u001b[43mname\u001b[49m\u001b[43m[\u001b[49m\u001b[43mlevel\u001b[49m\u001b[43m:\u001b[49m\u001b[43m]\u001b[49m\u001b[43m,\u001b[49m\u001b[43m \u001b[49m\u001b[43mpackage\u001b[49m\u001b[43m,\u001b[49m\u001b[43m \u001b[49m\u001b[43mlevel\u001b[49m\u001b[43m)\u001b[49m\n",
      "File \u001b[0;32m~/Desktop/MLProjects/articleGenerator/venv/lib/python3.9/site-packages/transformers/models/__init__.py:15\u001b[0m\n\u001b[1;32m      1\u001b[0m \u001b[38;5;66;03m# Copyright 2020 The HuggingFace Team. All rights reserved.\u001b[39;00m\n\u001b[1;32m      2\u001b[0m \u001b[38;5;66;03m#\u001b[39;00m\n\u001b[1;32m      3\u001b[0m \u001b[38;5;66;03m# Licensed under the Apache License, Version 2.0 (the \"License\");\u001b[39;00m\n\u001b[0;32m   (...)\u001b[0m\n\u001b[1;32m     12\u001b[0m \u001b[38;5;66;03m# See the License for the specific language governing permissions and\u001b[39;00m\n\u001b[1;32m     13\u001b[0m \u001b[38;5;66;03m# limitations under the License.\u001b[39;00m\n\u001b[0;32m---> 15\u001b[0m \u001b[38;5;28;01mfrom\u001b[39;00m\u001b[38;5;250m \u001b[39m\u001b[38;5;21;01m.\u001b[39;00m\u001b[38;5;250m \u001b[39m\u001b[38;5;28;01mimport\u001b[39;00m (\n\u001b[1;32m     16\u001b[0m     albert,\n\u001b[1;32m     17\u001b[0m     align,\n\u001b[1;32m     18\u001b[0m     altclip,\n\u001b[1;32m     19\u001b[0m     audio_spectrogram_transformer,\n\u001b[1;32m     20\u001b[0m     auto,\n\u001b[1;32m     21\u001b[0m     autoformer,\n\u001b[1;32m     22\u001b[0m     bark,\n\u001b[1;32m     23\u001b[0m     bart,\n\u001b[1;32m     24\u001b[0m     barthez,\n\u001b[1;32m     25\u001b[0m     bartpho,\n\u001b[1;32m     26\u001b[0m     beit,\n\u001b[1;32m     27\u001b[0m     bert,\n\u001b[1;32m     28\u001b[0m     bert_generation,\n\u001b[1;32m     29\u001b[0m     bert_japanese,\n\u001b[1;32m     30\u001b[0m     bertweet,\n\u001b[1;32m     31\u001b[0m     big_bird,\n\u001b[1;32m     32\u001b[0m     bigbird_pegasus,\n\u001b[1;32m     33\u001b[0m     biogpt,\n\u001b[1;32m     34\u001b[0m     bit,\n\u001b[1;32m     35\u001b[0m     blenderbot,\n\u001b[1;32m     36\u001b[0m     blenderbot_small,\n\u001b[1;32m     37\u001b[0m     blip,\n\u001b[1;32m     38\u001b[0m     blip_2,\n\u001b[1;32m     39\u001b[0m     bloom,\n\u001b[1;32m     40\u001b[0m     bridgetower,\n\u001b[1;32m     41\u001b[0m     bros,\n\u001b[1;32m     42\u001b[0m     byt5,\n\u001b[1;32m     43\u001b[0m     camembert,\n\u001b[1;32m     44\u001b[0m     canine,\n\u001b[1;32m     45\u001b[0m     chameleon,\n\u001b[1;32m     46\u001b[0m     chinese_clip,\n\u001b[1;32m     47\u001b[0m     clap,\n\u001b[1;32m     48\u001b[0m     clip,\n\u001b[1;32m     49\u001b[0m     clipseg,\n\u001b[1;32m     50\u001b[0m     clvp,\n\u001b[1;32m     51\u001b[0m     code_llama,\n\u001b[1;32m     52\u001b[0m     codegen,\n\u001b[1;32m     53\u001b[0m     cohere,\n\u001b[1;32m     54\u001b[0m     conditional_detr,\n\u001b[1;32m     55\u001b[0m     convbert,\n\u001b[1;32m     56\u001b[0m     convnext,\n\u001b[1;32m     57\u001b[0m     convnextv2,\n\u001b[1;32m     58\u001b[0m     cpm,\n\u001b[1;32m     59\u001b[0m     cpmant,\n\u001b[1;32m     60\u001b[0m     ctrl,\n\u001b[1;32m     61\u001b[0m     cvt,\n\u001b[1;32m     62\u001b[0m     dac,\n\u001b[1;32m     63\u001b[0m     data2vec,\n\u001b[1;32m     64\u001b[0m     dbrx,\n\u001b[1;32m     65\u001b[0m     deberta,\n\u001b[1;32m     66\u001b[0m     deberta_v2,\n\u001b[1;32m     67\u001b[0m     decision_transformer,\n\u001b[1;32m     68\u001b[0m     deformable_detr,\n\u001b[1;32m     69\u001b[0m     deit,\n\u001b[1;32m     70\u001b[0m     deprecated,\n\u001b[1;32m     71\u001b[0m     depth_anything,\n\u001b[1;32m     72\u001b[0m     detr,\n\u001b[1;32m     73\u001b[0m     dialogpt,\n\u001b[1;32m     74\u001b[0m     dinat,\n\u001b[1;32m     75\u001b[0m     dinov2,\n\u001b[1;32m     76\u001b[0m     distilbert,\n\u001b[1;32m     77\u001b[0m     dit,\n\u001b[1;32m     78\u001b[0m     donut,\n\u001b[1;32m     79\u001b[0m     dpr,\n\u001b[1;32m     80\u001b[0m     dpt,\n\u001b[1;32m     81\u001b[0m     efficientnet,\n\u001b[1;32m     82\u001b[0m     electra,\n\u001b[1;32m     83\u001b[0m     encodec,\n\u001b[1;32m     84\u001b[0m     encoder_decoder,\n\u001b[1;32m     85\u001b[0m     ernie,\n\u001b[1;32m     86\u001b[0m     esm,\n\u001b[1;32m     87\u001b[0m     falcon,\n\u001b[1;32m     88\u001b[0m     falcon_mamba,\n\u001b[1;32m     89\u001b[0m     fastspeech2_conformer,\n\u001b[1;32m     90\u001b[0m     flaubert,\n\u001b[1;32m     91\u001b[0m     flava,\n\u001b[1;32m     92\u001b[0m     fnet,\n\u001b[1;32m     93\u001b[0m     focalnet,\n\u001b[1;32m     94\u001b[0m     fsmt,\n\u001b[1;32m     95\u001b[0m     funnel,\n\u001b[1;32m     96\u001b[0m     fuyu,\n\u001b[1;32m     97\u001b[0m     gemma,\n\u001b[1;32m     98\u001b[0m     gemma2,\n\u001b[1;32m     99\u001b[0m     git,\n\u001b[1;32m    100\u001b[0m     glm,\n\u001b[1;32m    101\u001b[0m     glpn,\n\u001b[1;32m    102\u001b[0m     gpt2,\n\u001b[1;32m    103\u001b[0m     gpt_bigcode,\n\u001b[1;32m    104\u001b[0m     gpt_neo,\n\u001b[1;32m    105\u001b[0m     gpt_neox,\n\u001b[1;32m    106\u001b[0m     gpt_neox_japanese,\n\u001b[1;32m    107\u001b[0m     gpt_sw3,\n\u001b[1;32m    108\u001b[0m     gptj,\n\u001b[1;32m    109\u001b[0m     granite,\n\u001b[1;32m    110\u001b[0m     granitemoe,\n\u001b[1;32m    111\u001b[0m     grounding_dino,\n\u001b[1;32m    112\u001b[0m     groupvit,\n\u001b[1;32m    113\u001b[0m     herbert,\n\u001b[1;32m    114\u001b[0m     hiera,\n\u001b[1;32m    115\u001b[0m     hubert,\n\u001b[1;32m    116\u001b[0m     ibert,\n\u001b[1;32m    117\u001b[0m     idefics,\n\u001b[1;32m    118\u001b[0m     idefics2,\n\u001b[1;32m    119\u001b[0m     idefics3,\n\u001b[1;32m    120\u001b[0m     ijepa,\n\u001b[1;32m    121\u001b[0m     imagegpt,\n\u001b[1;32m    122\u001b[0m     informer,\n\u001b[1;32m    123\u001b[0m     instructblip,\n\u001b[1;32m    124\u001b[0m     instructblipvideo,\n\u001b[1;32m    125\u001b[0m     jamba,\n\u001b[1;32m    126\u001b[0m     jetmoe,\n\u001b[1;32m    127\u001b[0m     kosmos2,\n\u001b[1;32m    128\u001b[0m     layoutlm,\n\u001b[1;32m    129\u001b[0m     layoutlmv2,\n\u001b[1;32m    130\u001b[0m     layoutlmv3,\n\u001b[1;32m    131\u001b[0m     layoutxlm,\n\u001b[1;32m    132\u001b[0m     led,\n\u001b[1;32m    133\u001b[0m     levit,\n\u001b[1;32m    134\u001b[0m     lilt,\n\u001b[1;32m    135\u001b[0m     llama,\n\u001b[1;32m    136\u001b[0m     llava,\n\u001b[1;32m    137\u001b[0m     llava_next,\n\u001b[1;32m    138\u001b[0m     llava_next_video,\n\u001b[1;32m    139\u001b[0m     llava_onevision,\n\u001b[1;32m    140\u001b[0m     longformer,\n\u001b[1;32m    141\u001b[0m     longt5,\n\u001b[1;32m    142\u001b[0m     luke,\n\u001b[1;32m    143\u001b[0m     lxmert,\n\u001b[1;32m    144\u001b[0m     m2m_100,\n\u001b[1;32m    145\u001b[0m     mamba,\n\u001b[1;32m    146\u001b[0m     mamba2,\n\u001b[1;32m    147\u001b[0m     marian,\n\u001b[1;32m    148\u001b[0m     markuplm,\n\u001b[1;32m    149\u001b[0m     mask2former,\n\u001b[1;32m    150\u001b[0m     maskformer,\n\u001b[1;32m    151\u001b[0m     mbart,\n\u001b[1;32m    152\u001b[0m     mbart50,\n\u001b[1;32m    153\u001b[0m     megatron_bert,\n\u001b[1;32m    154\u001b[0m     megatron_gpt2,\n\u001b[1;32m    155\u001b[0m     mgp_str,\n\u001b[1;32m    156\u001b[0m     mimi,\n\u001b[1;32m    157\u001b[0m     mistral,\n\u001b[1;32m    158\u001b[0m     mixtral,\n\u001b[1;32m    159\u001b[0m     mllama,\n\u001b[1;32m    160\u001b[0m     mluke,\n\u001b[1;32m    161\u001b[0m     mobilebert,\n\u001b[1;32m    162\u001b[0m     mobilenet_v1,\n\u001b[1;32m    163\u001b[0m     mobilenet_v2,\n\u001b[1;32m    164\u001b[0m     mobilevit,\n\u001b[1;32m    165\u001b[0m     mobilevitv2,\n\u001b[1;32m    166\u001b[0m     moshi,\n\u001b[1;32m    167\u001b[0m     mpnet,\n\u001b[1;32m    168\u001b[0m     mpt,\n\u001b[1;32m    169\u001b[0m     mra,\n\u001b[1;32m    170\u001b[0m     mt5,\n\u001b[1;32m    171\u001b[0m     musicgen,\n\u001b[1;32m    172\u001b[0m     musicgen_melody,\n\u001b[1;32m    173\u001b[0m     mvp,\n\u001b[1;32m    174\u001b[0m     myt5,\n\u001b[1;32m    175\u001b[0m     nemotron,\n\u001b[1;32m    176\u001b[0m     nllb,\n\u001b[1;32m    177\u001b[0m     nllb_moe,\n\u001b[1;32m    178\u001b[0m     nougat,\n\u001b[1;32m    179\u001b[0m     nystromformer,\n\u001b[1;32m    180\u001b[0m     olmo,\n\u001b[1;32m    181\u001b[0m     olmo2,\n\u001b[1;32m    182\u001b[0m     olmoe,\n\u001b[1;32m    183\u001b[0m     omdet_turbo,\n\u001b[1;32m    184\u001b[0m     oneformer,\n\u001b[1;32m    185\u001b[0m     openai,\n\u001b[1;32m    186\u001b[0m     opt,\n\u001b[1;32m    187\u001b[0m     owlv2,\n\u001b[1;32m    188\u001b[0m     owlvit,\n\u001b[1;32m    189\u001b[0m     paligemma,\n\u001b[1;32m    190\u001b[0m     patchtsmixer,\n\u001b[1;32m    191\u001b[0m     patchtst,\n\u001b[1;32m    192\u001b[0m     pegasus,\n\u001b[1;32m    193\u001b[0m     pegasus_x,\n\u001b[1;32m    194\u001b[0m     perceiver,\n\u001b[1;32m    195\u001b[0m     persimmon,\n\u001b[1;32m    196\u001b[0m     phi,\n\u001b[1;32m    197\u001b[0m     phi3,\n\u001b[1;32m    198\u001b[0m     phimoe,\n\u001b[1;32m    199\u001b[0m     phobert,\n\u001b[1;32m    200\u001b[0m     pix2struct,\n\u001b[1;32m    201\u001b[0m     pixtral,\n\u001b[1;32m    202\u001b[0m     plbart,\n\u001b[1;32m    203\u001b[0m     poolformer,\n\u001b[1;32m    204\u001b[0m     pop2piano,\n\u001b[1;32m    205\u001b[0m     prophetnet,\n\u001b[1;32m    206\u001b[0m     pvt,\n\u001b[1;32m    207\u001b[0m     pvt_v2,\n\u001b[1;32m    208\u001b[0m     qwen2,\n\u001b[1;32m    209\u001b[0m     qwen2_audio,\n\u001b[1;32m    210\u001b[0m     qwen2_moe,\n\u001b[1;32m    211\u001b[0m     qwen2_vl,\n\u001b[1;32m    212\u001b[0m     rag,\n\u001b[1;32m    213\u001b[0m     recurrent_gemma,\n\u001b[1;32m    214\u001b[0m     reformer,\n\u001b[1;32m    215\u001b[0m     regnet,\n\u001b[1;32m    216\u001b[0m     rembert,\n\u001b[1;32m    217\u001b[0m     resnet,\n\u001b[1;32m    218\u001b[0m     roberta,\n\u001b[1;32m    219\u001b[0m     roberta_prelayernorm,\n\u001b[1;32m    220\u001b[0m     roc_bert,\n\u001b[1;32m    221\u001b[0m     roformer,\n\u001b[1;32m    222\u001b[0m     rt_detr,\n\u001b[1;32m    223\u001b[0m     rwkv,\n\u001b[1;32m    224\u001b[0m     sam,\n\u001b[1;32m    225\u001b[0m     seamless_m4t,\n\u001b[1;32m    226\u001b[0m     seamless_m4t_v2,\n\u001b[1;32m    227\u001b[0m     segformer,\n\u001b[1;32m    228\u001b[0m     seggpt,\n\u001b[1;32m    229\u001b[0m     sew,\n\u001b[1;32m    230\u001b[0m     sew_d,\n\u001b[1;32m    231\u001b[0m     siglip,\n\u001b[1;32m    232\u001b[0m     speech_encoder_decoder,\n\u001b[1;32m    233\u001b[0m     speech_to_text,\n\u001b[1;32m    234\u001b[0m     speecht5,\n\u001b[1;32m    235\u001b[0m     splinter,\n\u001b[1;32m    236\u001b[0m     squeezebert,\n\u001b[1;32m    237\u001b[0m     stablelm,\n\u001b[1;32m    238\u001b[0m     starcoder2,\n\u001b[1;32m    239\u001b[0m     superpoint,\n\u001b[1;32m    240\u001b[0m     swiftformer,\n\u001b[1;32m    241\u001b[0m     swin,\n\u001b[1;32m    242\u001b[0m     swin2sr,\n\u001b[1;32m    243\u001b[0m     swinv2,\n\u001b[1;32m    244\u001b[0m     switch_transformers,\n\u001b[1;32m    245\u001b[0m     t5,\n\u001b[1;32m    246\u001b[0m     table_transformer,\n\u001b[1;32m    247\u001b[0m     tapas,\n\u001b[1;32m    248\u001b[0m     time_series_transformer,\n\u001b[1;32m    249\u001b[0m     timesformer,\n\u001b[1;32m    250\u001b[0m     timm_backbone,\n\u001b[1;32m    251\u001b[0m     trocr,\n\u001b[1;32m    252\u001b[0m     tvp,\n\u001b[1;32m    253\u001b[0m     udop,\n\u001b[1;32m    254\u001b[0m     umt5,\n\u001b[1;32m    255\u001b[0m     unispeech,\n\u001b[1;32m    256\u001b[0m     unispeech_sat,\n\u001b[1;32m    257\u001b[0m     univnet,\n\u001b[1;32m    258\u001b[0m     upernet,\n\u001b[1;32m    259\u001b[0m     video_llava,\n\u001b[1;32m    260\u001b[0m     videomae,\n\u001b[1;32m    261\u001b[0m     vilt,\n\u001b[1;32m    262\u001b[0m     vipllava,\n\u001b[1;32m    263\u001b[0m     vision_encoder_decoder,\n\u001b[1;32m    264\u001b[0m     vision_text_dual_encoder,\n\u001b[1;32m    265\u001b[0m     visual_bert,\n\u001b[1;32m    266\u001b[0m     vit,\n\u001b[1;32m    267\u001b[0m     vit_mae,\n\u001b[1;32m    268\u001b[0m     vit_msn,\n\u001b[1;32m    269\u001b[0m     vitdet,\n\u001b[1;32m    270\u001b[0m     vitmatte,\n\u001b[1;32m    271\u001b[0m     vits,\n\u001b[1;32m    272\u001b[0m     vivit,\n\u001b[1;32m    273\u001b[0m     wav2vec2,\n\u001b[1;32m    274\u001b[0m     wav2vec2_bert,\n\u001b[1;32m    275\u001b[0m     wav2vec2_conformer,\n\u001b[1;32m    276\u001b[0m     wav2vec2_phoneme,\n\u001b[1;32m    277\u001b[0m     wav2vec2_with_lm,\n\u001b[1;32m    278\u001b[0m     wavlm,\n\u001b[1;32m    279\u001b[0m     whisper,\n\u001b[1;32m    280\u001b[0m     x_clip,\n\u001b[1;32m    281\u001b[0m     xglm,\n\u001b[1;32m    282\u001b[0m     xlm,\n\u001b[1;32m    283\u001b[0m     xlm_roberta,\n\u001b[1;32m    284\u001b[0m     xlm_roberta_xl,\n\u001b[1;32m    285\u001b[0m     xlnet,\n\u001b[1;32m    286\u001b[0m     xmod,\n\u001b[1;32m    287\u001b[0m     yolos,\n\u001b[1;32m    288\u001b[0m     yoso,\n\u001b[1;32m    289\u001b[0m     zamba,\n\u001b[1;32m    290\u001b[0m     zoedepth,\n\u001b[1;32m    291\u001b[0m )\n",
      "File \u001b[0;32m~/Desktop/MLProjects/articleGenerator/venv/lib/python3.9/site-packages/transformers/models/albert/__init__.py:31\u001b[0m\n\u001b[1;32m     28\u001b[0m \u001b[38;5;28;01mimport\u001b[39;00m\u001b[38;5;250m \u001b[39m\u001b[38;5;21;01msys\u001b[39;00m\n\u001b[1;32m     30\u001b[0m _file \u001b[38;5;241m=\u001b[39m \u001b[38;5;28mglobals\u001b[39m()[\u001b[38;5;124m\"\u001b[39m\u001b[38;5;124m__file__\u001b[39m\u001b[38;5;124m\"\u001b[39m]\n\u001b[0;32m---> 31\u001b[0m sys\u001b[38;5;241m.\u001b[39mmodules[\u001b[38;5;18m__name__\u001b[39m] \u001b[38;5;241m=\u001b[39m _LazyModule(\u001b[38;5;18m__name__\u001b[39m, _file, \u001b[43mdefine_import_structure\u001b[49m\u001b[43m(\u001b[49m\u001b[43m_file\u001b[49m\u001b[43m)\u001b[49m, module_spec\u001b[38;5;241m=\u001b[39m__spec__)\n",
      "File \u001b[0;32m~/Desktop/MLProjects/articleGenerator/venv/lib/python3.9/site-packages/transformers/utils/import_utils.py:2212\u001b[0m, in \u001b[0;36mdefine_import_structure\u001b[0;34m(module_path)\u001b[0m\n\u001b[1;32m   2191\u001b[0m \u001b[38;5;28;01mdef\u001b[39;00m\u001b[38;5;250m \u001b[39m\u001b[38;5;21mdefine_import_structure\u001b[39m(module_path: \u001b[38;5;28mstr\u001b[39m) \u001b[38;5;241m-\u001b[39m\u001b[38;5;241m>\u001b[39m IMPORT_STRUCTURE_T:\n\u001b[1;32m   2192\u001b[0m \u001b[38;5;250m    \u001b[39m\u001b[38;5;124;03m\"\"\"\u001b[39;00m\n\u001b[1;32m   2193\u001b[0m \u001b[38;5;124;03m    This method takes a module_path as input and creates an import structure digestible by a _LazyModule.\u001b[39;00m\n\u001b[1;32m   2194\u001b[0m \n\u001b[0;32m   (...)\u001b[0m\n\u001b[1;32m   2210\u001b[0m \u001b[38;5;124;03m    The import structure is a dict defined with frozensets as keys, and dicts of strings to sets of objects.\u001b[39;00m\n\u001b[1;32m   2211\u001b[0m \u001b[38;5;124;03m    \"\"\"\u001b[39;00m\n\u001b[0;32m-> 2212\u001b[0m     import_structure \u001b[38;5;241m=\u001b[39m \u001b[43mcreate_import_structure_from_path\u001b[49m\u001b[43m(\u001b[49m\u001b[43mmodule_path\u001b[49m\u001b[43m)\u001b[49m\n\u001b[1;32m   2213\u001b[0m     \u001b[38;5;28;01mreturn\u001b[39;00m spread_import_structure(import_structure)\n",
      "File \u001b[0;32m~/Desktop/MLProjects/articleGenerator/venv/lib/python3.9/site-packages/transformers/utils/import_utils.py:1983\u001b[0m, in \u001b[0;36mcreate_import_structure_from_path\u001b[0;34m(module_path)\u001b[0m\n\u001b[1;32m   1980\u001b[0m     \u001b[38;5;28;01mcontinue\u001b[39;00m\n\u001b[1;32m   1982\u001b[0m \u001b[38;5;28;01mwith\u001b[39;00m \u001b[38;5;28mopen\u001b[39m(os\u001b[38;5;241m.\u001b[39mpath\u001b[38;5;241m.\u001b[39mjoin(directory, module_name), encoding\u001b[38;5;241m=\u001b[39m\u001b[38;5;124m\"\u001b[39m\u001b[38;5;124mutf-8\u001b[39m\u001b[38;5;124m\"\u001b[39m) \u001b[38;5;28;01mas\u001b[39;00m f:\n\u001b[0;32m-> 1983\u001b[0m     file_content \u001b[38;5;241m=\u001b[39m \u001b[43mf\u001b[49m\u001b[38;5;241;43m.\u001b[39;49m\u001b[43mread\u001b[49m\u001b[43m(\u001b[49m\u001b[43m)\u001b[49m\n\u001b[1;32m   1985\u001b[0m \u001b[38;5;66;03m# Remove the .py suffix\u001b[39;00m\n\u001b[1;32m   1986\u001b[0m module_name \u001b[38;5;241m=\u001b[39m module_name[:\u001b[38;5;241m-\u001b[39m\u001b[38;5;241m3\u001b[39m]\n",
      "\u001b[0;31mKeyboardInterrupt\u001b[0m: "
     ]
    }
   ],
   "source": [
    "from scripts.train import fine_tune"
   ]
  },
  {
   "cell_type": "code",
   "execution_count": 5,
   "metadata": {},
   "outputs": [
    {
     "name": "stdout",
     "output_type": "stream",
     "text": [
      "Total parameters: 1237518336\n",
      "Trainable parameters: 1703936\n"
     ]
    },
    {
     "name": "stderr",
     "output_type": "stream",
     "text": [
      "Epoch 1:   0%|          | 0/5475 [00:00<?, ?it/s]"
     ]
    },
    {
     "ename": "",
     "evalue": "",
     "output_type": "error",
     "traceback": [
      "\u001b[1;31mFailed to interrupt the Kernel. \n",
      "\u001b[1;31mUnable to start Kernel 'venv (Python 3.9.13)' due to a timeout waiting for the ports to get used. \n",
      "\u001b[1;31mView Jupyter <a href='command:jupyter.viewOutput'>log</a> for further details."
     ]
    }
   ],
   "source": [
    "fine_tune('./configs/llama-3.2-1B_lora_finetune.json', \n",
    "        train_file_path=\"./train-v1.1.json\", \n",
    "        dev_file_path=\"./dev-v1.1.json\")"
   ]
  },
  {
   "cell_type": "code",
   "execution_count": null,
   "metadata": {},
   "outputs": [],
   "source": []
  }
 ],
 "metadata": {
  "kernelspec": {
   "display_name": "venv",
   "language": "python",
   "name": "python3"
  },
  "language_info": {
   "codemirror_mode": {
    "name": "ipython",
    "version": 3
   },
   "file_extension": ".py",
   "mimetype": "text/x-python",
   "name": "python",
   "nbconvert_exporter": "python",
   "pygments_lexer": "ipython3",
   "version": "3.9.13"
  }
 },
 "nbformat": 4,
 "nbformat_minor": 2
}
